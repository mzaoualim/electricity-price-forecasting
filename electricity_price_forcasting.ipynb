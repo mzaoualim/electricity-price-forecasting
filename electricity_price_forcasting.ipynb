{
  "nbformat": 4,
  "nbformat_minor": 0,
  "metadata": {
    "colab": {
      "provenance": [],
      "toc_visible": true,
      "authorship_tag": "ABX9TyMP5QSjXOdxOi/Tr5zJ5RSZ",
      "include_colab_link": true
    },
    "kernelspec": {
      "name": "python3",
      "display_name": "Python 3"
    },
    "language_info": {
      "name": "python"
    }
  },
  "cells": [
    {
      "cell_type": "markdown",
      "metadata": {
        "id": "view-in-github",
        "colab_type": "text"
      },
      "source": [
        "<a href=\"https://colab.research.google.com/github/mzaoualim/electricity-price-forecasting/blob/main/electricity_price_forcasting.ipynb\" target=\"_parent\"><img src=\"https://colab.research.google.com/assets/colab-badge.svg\" alt=\"Open In Colab\"/></a>"
      ]
    },
    {
      "cell_type": "code",
      "source": [
        "# Acronymes\n",
        "# electricity price forcasting: epf\n",
        "# day ahead price: DAP\n",
        "# day ahead market: DAM\n",
        "# intraday price: IDP\n",
        "# intraday market: IDM"
      ],
      "metadata": {
        "id": "sDpX_20U84dH"
      },
      "execution_count": null,
      "outputs": []
    },
    {
      "cell_type": "code",
      "source": [
        "# Project Notes\n",
        "  ## coding style guidlines\n",
        "  '''\n",
        "  > Don't Repeat Yourself\n",
        "  > wrap every task within a function in a separate file for reproduction\n",
        "  > Work with class/method rather than function on/in function\n",
        "  > document everything {variables, calls...}\n",
        "  '''\n",
        "  ## Link to explore\n",
        "  '''\n",
        "  electricity trading and epf = profit?\n",
        "  https://github.com/sandeshbhatjr/energy-prediction/blob/master/README.md\n",
        "  https://energy-client-dot-energy-predictor.appspot.com/\n",
        "  \n",
        "\n",
        "  '''"
      ],
      "metadata": {
        "id": "a1P3yX-KxkML"
      },
      "execution_count": null,
      "outputs": []
    },
    {
      "cell_type": "code",
      "source": [
        "# Related Project\n",
        "# https://github.com/dswigh/green-switch/blob/master/app.py\n",
        "'''\n",
        "Web-app to help decide whether to heat their home with gas or electricity\n",
        "'''"
      ],
      "metadata": {
        "id": "HkGZX_Rr6-qY"
      },
      "execution_count": null,
      "outputs": []
    },
    {
      "cell_type": "code",
      "execution_count": null,
      "metadata": {
        "id": "eUVCTuoCr8qd"
      },
      "outputs": [],
      "source": [
        "# Template & Updates"
      ]
    },
    {
      "cell_type": "markdown",
      "source": [
        "## Libraries"
      ],
      "metadata": {
        "id": "qgWsuywJKhOF"
      }
    },
    {
      "cell_type": "code",
      "source": [
        "# Common modules\n",
        "import datetime as dt\n",
        "import pandas as pd\n",
        "import numpy as np\n",
        "import seaborn as sns\n",
        "import matplotlib.pyplot as plt"
      ],
      "metadata": {
        "id": "0_Aww7_ZK4aV"
      },
      "execution_count": null,
      "outputs": []
    },
    {
      "cell_type": "code",
      "source": [],
      "metadata": {
        "id": "rCRUcQeILcNs"
      },
      "execution_count": null,
      "outputs": []
    },
    {
      "cell_type": "markdown",
      "source": [
        "## Motivation"
      ],
      "metadata": {
        "id": "Fc2rtHiUsCK0"
      }
    },
    {
      "cell_type": "markdown",
      "source": [
        "The starting interest is originated from the following youtube [short](https://www.youtube.com/shorts/Sxx-dnNVOdI).\n",
        "\n",
        "Where billionnaire James Williams caracterised the electricity market with the most Volatile (even beyond cryto) and most reliably predictable market (as it follows the laws of physics)."
      ],
      "metadata": {
        "id": "8IZjqSgXsFf5"
      }
    },
    {
      "cell_type": "markdown",
      "source": [
        "## Problem Statement:\n",
        "Performing electricity price predicition leading to profitable trading."
      ],
      "metadata": {
        "id": "My87FOPHKCnW"
      }
    },
    {
      "cell_type": "markdown",
      "source": [
        "## Goal\n",
        "How far can a deep learning model accuratly forcast electricity price without any additionnal variable except historical price observations?"
      ],
      "metadata": {
        "id": "fqg68-G411YA"
      }
    },
    {
      "cell_type": "code",
      "source": [
        "# Money Speaking:\n",
        "'''\n",
        "How far is profitable (dollar to dollar) to use a DL model for EPF?\n",
        "\n",
        "STRATEGY ==> ARBITRAGE\n",
        " - Performe forcasting of IDP & DAP\n",
        " - Purchase electricity in DAM and sell in IDP\n",
        " - profit = IDP - DAM - fees\n",
        "'''\n"
      ],
      "metadata": {
        "id": "_Cr0_n6s_Ekv"
      },
      "execution_count": null,
      "outputs": []
    },
    {
      "cell_type": "markdown",
      "source": [
        "## Data"
      ],
      "metadata": {
        "id": "oXyMIH0F1zlQ"
      }
    },
    {
      "cell_type": "code",
      "source": [
        "# https://ember-climate.org/data-catalogue/european-wholesale-electricity-price-data/\n",
        "'''\n",
        "This dataset contains average hourly, daily and monthly \n",
        "wholesale day-ahead electricity prices for European countries. \n",
        "'''"
      ],
      "metadata": {
        "id": "1mDJvn-05Rzh"
      },
      "execution_count": null,
      "outputs": []
    },
    {
      "cell_type": "code",
      "source": [
        "# https://pypi.org/project/elmada/\n",
        "'''\n",
        "elmada: Dynamic electricity carbon emission factors and prices for Europe\n",
        "'''"
      ],
      "metadata": {
        "id": "ktwwRVBa-rk4"
      },
      "execution_count": null,
      "outputs": []
    },
    {
      "cell_type": "code",
      "source": [
        "# https://pypi.org/project/python-ote/\n",
        "'''\n",
        "Electricity prices scraper for OTE (ote-cr.cz)\n",
        "'''"
      ],
      "metadata": {
        "id": "x16lCe0LBSgn"
      },
      "execution_count": null,
      "outputs": []
    },
    {
      "cell_type": "code",
      "source": [
        "# https://github.com/msdogan/pyiso_scraper\n",
        "'''\n",
        "Using this code, one can download day ahead and realtime wholesale hourly \n",
        "and fifteen minute electricity price data from \n",
        "California Independent System Operators (CAISO) and save the price data as csv\n",
        "'''"
      ],
      "metadata": {
        "id": "r9wuKaFQBkg5"
      },
      "execution_count": null,
      "outputs": []
    },
    {
      "cell_type": "code",
      "source": [
        "# Variables\n",
        "'''\n",
        "> historical electricity prices\n",
        " >> Day Ahead Price\n",
        " >> Intraday Price\n",
        "> dummy variables\n",
        "'''"
      ],
      "metadata": {
        "id": "n349-T1Mfq8P"
      },
      "execution_count": null,
      "outputs": []
    },
    {
      "cell_type": "code",
      "source": [
        "# EDA of a time series ?\n",
        "## Seasonality viz/detection\n",
        "  ## Annually/Monthly/weekly/daily/hourly??? (justify dummy variables)\n",
        "## (Partial) Autocorrelation (to justify lagged obs)\n",
        "## Checking for outliers (remove or keep certain variables?)"
      ],
      "metadata": {
        "id": "KzRKFV_nkrC1"
      },
      "execution_count": null,
      "outputs": []
    },
    {
      "cell_type": "code",
      "source": [
        "# Data (pre)processing:\n",
        "\n",
        "## Add dummies:\n",
        "  ### lagged obs\n",
        "  ### day of the week\n",
        "  ### weekends and national holidays\n",
        "  ### hours of the day (for working/peaking/calming hours)\n",
        "## normalization (0 to 1)\n",
        "## interpolation of missing data\n",
        "## drop duplicate obs\n",
        "## training/validation/testing split"
      ],
      "metadata": {
        "id": "EYFnM-xNanNV"
      },
      "execution_count": null,
      "outputs": []
    },
    {
      "cell_type": "markdown",
      "source": [
        "## Modeling"
      ],
      "metadata": {
        "id": "tUyjHKjd-psr"
      }
    },
    {
      "cell_type": "code",
      "source": [
        "# Model to test\n",
        "\n",
        "# Sources\n",
        "  #> https://github.com/piekarsky/Short-Term-Electricity-Price-Forecasting-at-the-Polish-Day-Ahead-Market\n",
        "  #> https://github.com/dimkonto/ERC-DNN/blob/main/epfdnn.py\n",
        "  #> https://github.com/vjosapreniqi/Deep-Learning-for-UK-electricity-price-prediction/blob/master/Notebooks/UK%20electricity%20forecast%20Univariate%20TS.ipynb\n",
        "  #> https://github.com/abodh/Electricity-cost-forecasting-using-machine-learning-and-deep-learning-models\n",
        "\n",
        "# > Best models to handle time series forcasting:\n",
        "'''\n",
        "    LSTM CNN transformer\n",
        "    N-BEATS (ElementAI)\n",
        "    DeepAR (Amazon)\n",
        "    Spacetimeformer \n",
        "    Temporal Fusion Transformer or TFT (Google)\n",
        "    ---------------------\n",
        "    AleaModel\n",
        "    ---------------------\n",
        "    Quantile regression averaging\n",
        "\n",
        "    {Despite its simplicity \n",
        "    it has been found to perform extremely well in practice\n",
        "     - the top two performing teams in the price track of the\n",
        "      Global Energy Forecasting Competition (GEFCom2014) used \n",
        "      variants of QRA -}\n",
        "    ---------------------\n",
        "=====> Modeling strategy? \n",
        "    Single Model\n",
        "    Hybrid Model\n",
        "    Stacking Ensemble Model\n",
        "'''\n",
        "# Seasonality treatments\n",
        "'''\n",
        "  daily, weekly, annually\n",
        "'''\n",
        "# Training horizon options?\n",
        "'''\n",
        "  what is best suited for day-ahead forcasting?!\n",
        "'''\n",
        "# Walk forward nested cross-validation!? + windows experimentations!?\n",
        "# Experimentations & hyperparameter tuning?"
      ],
      "metadata": {
        "id": "-I5FDtLl-ndK"
      },
      "execution_count": null,
      "outputs": []
    },
    {
      "cell_type": "code",
      "source": [
        "# Modeling Insights\n",
        "## Training/Validation/Testing Accuracy + Viz\n",
        "## Error Analysis & Viz"
      ],
      "metadata": {
        "id": "69lc-judl41j"
      },
      "execution_count": null,
      "outputs": []
    },
    {
      "cell_type": "markdown",
      "source": [
        "## Investments Simulations"
      ],
      "metadata": {
        "id": "LCvoJDkDmJhs"
      }
    },
    {
      "cell_type": "code",
      "source": [
        "## Investments scenarios (with or without constraints)\n",
        "  ### > Arbitrage with/without storage\n",
        "## ROI analysis & Viz"
      ],
      "metadata": {
        "id": "xzlTlECzmgq_"
      },
      "execution_count": null,
      "outputs": []
    },
    {
      "cell_type": "markdown",
      "source": [
        "## Web App Solution\n"
      ],
      "metadata": {
        "id": "HgLA3yWMAIK7"
      }
    },
    {
      "cell_type": "code",
      "source": [
        "# Template\n",
        "'''\n",
        "> Variable Inputs\n",
        " - Capital\n",
        " - Financial Cost:\n",
        " => Interest Rate (loan/cost to invest)\n",
        " => Free Risk Rate (bond mostly)\n",
        " => Opportunity cost (index fund return?)\n",
        " - Investment Horizon\n",
        " => forcast the next hour, day, month?\n",
        " \n",
        "> Select Model\n",
        " +> Baseline model (ARIMA) for comparaison ? ==> Only in notebook exercise!\n",
        "\n",
        "> Results\n",
        " - Predicted ROI\n",
        " -> Of each model\n",
        " - Comparaison with competing investements.\n",
        "'''\n",
        "# coding style guidlines\n",
        "'''\n",
        "> Don't Repeat Yourself\n",
        "> wrap every task within a function in a separate file for reproduction\n",
        "> Work with class/methodes rather than function on/in function\n",
        "> document everything {variables, calls...}\n",
        "'''"
      ],
      "metadata": {
        "id": "BvIUTwKSAMbU"
      },
      "execution_count": null,
      "outputs": []
    },
    {
      "cell_type": "code",
      "source": [
        "#Write packages_list into requirements.txt\n",
        "!pip freeze > requirements.txt"
      ],
      "metadata": {
        "id": "cXV0O7JeKXxG"
      },
      "execution_count": null,
      "outputs": []
    },
    {
      "cell_type": "markdown",
      "source": [
        "## Conclusion\n"
      ],
      "metadata": {
        "id": "W2PnUXH9fO0Q"
      }
    },
    {
      "cell_type": "code",
      "source": [
        "# additionnal Variables & features selection\n",
        "'''\n",
        "> historical electricity prices\n",
        " >+ Categorical Variables for:\n",
        "    - Weekdays\n",
        "    - Holidays\n",
        "    - Months/Season...\n",
        " >+ Heating degree days?\n",
        " >+ Cooling degree days?\n",
        " >+ Market Coupling (neighbouring power markets)\n",
        "\n",
        "> investigate the effect of residual training error estimation for the day-ahead\n",
        " price forecasting task and propose an error compensation deep neural network model (ERC–DNN) \n",
        " that focuses on the minimization of prediction error, \n",
        " while reinforcing error stability through the integration of an autoregression module\n",
        "\n",
        "> \n",
        "'''"
      ],
      "metadata": {
        "id": "L6rsmU__fZtI"
      },
      "execution_count": null,
      "outputs": []
    },
    {
      "cell_type": "markdown",
      "source": [
        "## Reference\n",
        "[Electricity price forcasting](https://en.wikipedia.org/wiki/Electricity_price_forecasting)\n",
        "\n",
        "[Day-ahead electricity price prediction applying hybrid models of LSTM-based deep learning methods and feature selection algorithms under consideration of market coupling](https://arxiv.org/pdf/2101.05249.pdf)\n",
        "\n",
        "[Error Compensation Enhanced Day-Ahead Electricity Price Forecasting](https://www.mdpi.com/1996-1073/15/4/1466)\n",
        "\n",
        "[LSTM Implementation to predict BitCoin Closing Price](https://github.com/mzaoualim/Bitcoin_LSTM/blob/main/BTC_LSTM.ipynb)\n",
        "\n",
        "[energy-prediction](https://github.com/sandeshbhatjr/energy-prediction/blob/master/README.md)\n",
        "\n",
        "[energy-prediction app](https://energy-client-dot-energy-predictor.appspot.com/)"
      ],
      "metadata": {
        "id": "4IqROajoAMM6"
      }
    },
    {
      "cell_type": "code",
      "source": [],
      "metadata": {
        "id": "P4MZfkO2TCDN"
      },
      "execution_count": null,
      "outputs": []
    }
  ]
}