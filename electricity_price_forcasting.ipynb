{
  "nbformat": 4,
  "nbformat_minor": 0,
  "metadata": {
    "colab": {
      "provenance": [],
      "toc_visible": true,
      "authorship_tag": "ABX9TyPd3jGqBiOqIn9h/DK3KlNF"
    },
    "kernelspec": {
      "name": "python3",
      "display_name": "Python 3"
    },
    "language_info": {
      "name": "python"
    }
  },
  "cells": [
    {
      "cell_type": "code",
      "source": [
        "#Acronymes\n",
        "# electricity price forcasting: epf"
      ],
      "metadata": {
        "id": "sDpX_20U84dH"
      },
      "execution_count": null,
      "outputs": []
    },
    {
      "cell_type": "code",
      "source": [
        "# Project Notes\n",
        "# Variables\n",
        "'''\n",
        "> past electricity price\n",
        "'''"
      ],
      "metadata": {
        "id": "a1P3yX-KxkML"
      },
      "execution_count": null,
      "outputs": []
    },
    {
      "cell_type": "code",
      "source": [
        "# Related Project\n",
        "# https://github.com/dswigh/green-switch/blob/master/app.py\n",
        "'''\n",
        "Web-app to help decide whether to heat their home with gas or electricity\n",
        "'''\n",
        "# "
      ],
      "metadata": {
        "id": "HkGZX_Rr6-qY"
      },
      "execution_count": null,
      "outputs": []
    },
    {
      "cell_type": "code",
      "execution_count": null,
      "metadata": {
        "id": "eUVCTuoCr8qd"
      },
      "outputs": [],
      "source": [
        "# Template & Updates"
      ]
    },
    {
      "cell_type": "markdown",
      "source": [
        "## Motivation"
      ],
      "metadata": {
        "id": "Fc2rtHiUsCK0"
      }
    },
    {
      "cell_type": "markdown",
      "source": [
        "The starting interest is originated from the following youtube [short](https://www.youtube.com/shorts/Sxx-dnNVOdI).\n",
        "\n",
        "Where billionnaire James Williams caracterised the electricity market with the most Volatile (even beyond cryto) and most reliably predictable market (as it follow laws of physics)."
      ],
      "metadata": {
        "id": "8IZjqSgXsFf5"
      }
    },
    {
      "cell_type": "markdown",
      "source": [
        "## Goal\n",
        "How far can a DL model accuratly forcast a day ahead electricity price without any additionnal variable except past price observations?"
      ],
      "metadata": {
        "id": "fqg68-G411YA"
      }
    },
    {
      "cell_type": "code",
      "source": [
        "# Money Speaking:\n",
        "'''\n",
        "How far is profitable (dollar to dollar) to use a DL model for EPF?\n",
        "'''"
      ],
      "metadata": {
        "id": "_Cr0_n6s_Ekv"
      },
      "execution_count": null,
      "outputs": []
    },
    {
      "cell_type": "markdown",
      "source": [
        "## Data"
      ],
      "metadata": {
        "id": "oXyMIH0F1zlQ"
      }
    },
    {
      "cell_type": "code",
      "source": [
        "#sources\n",
        "#https://transparency.entsoe.eu/\n",
        "# https://github.com/acruzgarcia/OMIEData\n",
        "'''\n",
        "Python package to import data from OMIE \n",
        "(Iberian Peninsula's Electricity Market Operator): https://www.omie.es/\n",
        "'''\n",
        "# "
      ],
      "metadata": {
        "id": "_wmMDlMv12lA"
      },
      "execution_count": null,
      "outputs": []
    },
    {
      "cell_type": "markdown",
      "source": [
        "## Models"
      ],
      "metadata": {
        "id": "tUyjHKjd-psr"
      }
    },
    {
      "cell_type": "code",
      "source": [
        "# Model to test\n",
        "# > Best models to handle time series forcasting:\n",
        "'''\n",
        "    LSTM CNN transformer\n",
        "    N-BEATS (ElementAI)\n",
        "    DeepAR (Amazon)\n",
        "    Spacetimeformer \n",
        "    Temporal Fusion Transformer or TFT (Google)\n",
        "'''\n",
        "# Training horizon options?\n",
        "'''\n",
        "\n",
        "'''"
      ],
      "metadata": {
        "id": "-I5FDtLl-ndK"
      },
      "execution_count": null,
      "outputs": []
    },
    {
      "cell_type": "markdown",
      "source": [
        "## Web App Solution\n"
      ],
      "metadata": {
        "id": "HgLA3yWMAIK7"
      }
    },
    {
      "cell_type": "code",
      "source": [
        "# Template\n",
        "'''\n",
        "> Variable Inputs:\n",
        " - Capital\n",
        " - Financial Cost:\n",
        " => Interest Rate (loan cost to invest)\n",
        " => Free Risk Rate (bond mostly)\n",
        " => Opportunity cost (index fund return?)\n",
        " - Investment Horizon\n",
        " => forcast the next hour, day, month?\n",
        " \n",
        "> Select Model\n",
        " +> Baseline model (ARIMA) for comparaison \n",
        "\n",
        "> Results\n",
        " - Predicted ROI\n",
        " -> Of each model\n",
        " - Comparaison with competing investements.\n",
        "'''"
      ],
      "metadata": {
        "id": "BvIUTwKSAMbU"
      },
      "execution_count": null,
      "outputs": []
    },
    {
      "cell_type": "markdown",
      "source": [
        "## Reference\n",
        "[Electricity price forcasting](https://en.wikipedia.org/wiki/Electricity_price_forecasting)\n"
      ],
      "metadata": {
        "id": "4IqROajoAMM6"
      }
    }
  ]
}