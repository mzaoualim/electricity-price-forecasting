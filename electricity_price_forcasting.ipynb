{
  "nbformat": 4,
  "nbformat_minor": 0,
  "metadata": {
    "colab": {
      "provenance": [],
      "toc_visible": true,
      "authorship_tag": "ABX9TyN4MgRkqqxGmBKaDMrRCS11"
    },
    "kernelspec": {
      "name": "python3",
      "display_name": "Python 3"
    },
    "language_info": {
      "name": "python"
    }
  },
  "cells": [
    {
      "cell_type": "code",
      "source": [
        "#Acronymes\n",
        "# electricity price forcasting: epf"
      ],
      "metadata": {
        "id": "sDpX_20U84dH"
      },
      "execution_count": null,
      "outputs": []
    },
    {
      "cell_type": "code",
      "source": [
        "# Project Notes\n",
        "# Variables\n",
        "'''\n",
        "> historical electricity prices\n",
        " >+ Heating degree days\n",
        " >+ Cooling degree days\n",
        " >+ Market Coupling (neighbouring power markets)\n",
        ">\n",
        "'''"
      ],
      "metadata": {
        "id": "a1P3yX-KxkML"
      },
      "execution_count": null,
      "outputs": []
    },
    {
      "cell_type": "code",
      "source": [
        "# Related Project\n",
        "# https://github.com/dswigh/green-switch/blob/master/app.py\n",
        "'''\n",
        "Web-app to help decide whether to heat their home with gas or electricity\n",
        "'''"
      ],
      "metadata": {
        "id": "HkGZX_Rr6-qY"
      },
      "execution_count": null,
      "outputs": []
    },
    {
      "cell_type": "code",
      "execution_count": null,
      "metadata": {
        "id": "eUVCTuoCr8qd"
      },
      "outputs": [],
      "source": [
        "# Template & Updates"
      ]
    },
    {
      "cell_type": "markdown",
      "source": [
        "## Motivation"
      ],
      "metadata": {
        "id": "Fc2rtHiUsCK0"
      }
    },
    {
      "cell_type": "markdown",
      "source": [
        "The starting interest is originated from the following youtube [short](https://www.youtube.com/shorts/Sxx-dnNVOdI).\n",
        "\n",
        "Where billionnaire James Williams caracterised the electricity market with the most Volatile (even beyond cryto) and most reliably predictable market (as it follow laws of physics)."
      ],
      "metadata": {
        "id": "8IZjqSgXsFf5"
      }
    },
    {
      "cell_type": "markdown",
      "source": [
        "## Goal\n",
        "How far can a DL model accuratly forcast a day ahead electricity price without any additionnal variable except past price observations?"
      ],
      "metadata": {
        "id": "fqg68-G411YA"
      }
    },
    {
      "cell_type": "code",
      "source": [
        "# Money Speaking:\n",
        "'''\n",
        "How far is profitable (dollar to dollar) to use a DL model for EPF?\n",
        "'''"
      ],
      "metadata": {
        "id": "_Cr0_n6s_Ekv"
      },
      "execution_count": null,
      "outputs": []
    },
    {
      "cell_type": "markdown",
      "source": [
        "## Task\n",
        "Performing day-ahead forecasting leading to profitable trading."
      ],
      "metadata": {
        "id": "My87FOPHKCnW"
      }
    },
    {
      "cell_type": "markdown",
      "source": [
        "## Data"
      ],
      "metadata": {
        "id": "oXyMIH0F1zlQ"
      }
    },
    {
      "cell_type": "code",
      "source": [
        "#sources\n",
        "\n",
        "# https://github.com/acruzgarcia/OMIEData\n",
        "'''\n",
        "Python package to import data from OMIE \n",
        "(Iberian Peninsula's Electricity Market Operator): https://www.omie.es/\n",
        "'''\n",
        "# https://www.nordpoolgroup.com\n",
        "# https://transparency.entsoe.eu/"
      ],
      "metadata": {
        "id": "_wmMDlMv12lA"
      },
      "execution_count": null,
      "outputs": []
    },
    {
      "cell_type": "markdown",
      "source": [
        "## Modeling"
      ],
      "metadata": {
        "id": "tUyjHKjd-psr"
      }
    },
    {
      "cell_type": "code",
      "source": [
        "# Model to test\n",
        "\n",
        "# Sources\n",
        "  #> https://github.com/piekarsky/Short-Term-Electricity-Price-Forecasting-at-the-Polish-Day-Ahead-Market\n",
        "  #> https://github.com/dimkonto/ERC-DNN/blob/main/epfdnn.py\n",
        "\n",
        "# > Best models to handle time series forcasting:\n",
        "'''\n",
        "    LSTM CNN transformer\n",
        "    N-BEATS (ElementAI)\n",
        "    DeepAR (Amazon)\n",
        "    Spacetimeformer \n",
        "    Temporal Fusion Transformer or TFT (Google)\n",
        "    ---------------------\n",
        "    AleaModel\n",
        "    ---------------------\n",
        "    Quantile regression averaging\n",
        "\n",
        "    {Despite its simplicity \n",
        "    it has been found to perform extremely well in practice\n",
        "     - the top two performing teams in the price track of the\n",
        "      Global Energy Forecasting Competition (GEFCom2014) used \n",
        "      variants of QRA -}\n",
        "    ---------------------\n",
        "=====> Modeling strategy? \n",
        "    Single Model\n",
        "    Hybrid Model\n",
        "    Stacking Ensemble Model\n",
        "'''\n",
        "# Seasonality treatments\n",
        "'''\n",
        "  daily, weekly, annually\n",
        "'''\n",
        "# Training horizon options?\n",
        "'''\n",
        "  day-ahead forcasting!\n",
        "'''"
      ],
      "metadata": {
        "id": "-I5FDtLl-ndK"
      },
      "execution_count": null,
      "outputs": []
    },
    {
      "cell_type": "markdown",
      "source": [
        "## Web App Solution\n"
      ],
      "metadata": {
        "id": "HgLA3yWMAIK7"
      }
    },
    {
      "cell_type": "code",
      "source": [
        "# Template\n",
        "'''\n",
        "> Variable Inputs:\n",
        " - Capital\n",
        " - Financial Cost:\n",
        " => Interest Rate (loan cost to invest)\n",
        " => Free Risk Rate (bond mostly)\n",
        " => Opportunity cost (index fund return?)\n",
        " - Investment Horizon\n",
        " => forcast the next hour, day, month?\n",
        " \n",
        "> Select Model\n",
        " +> Baseline model (ARIMA) for comparaison ?\n",
        "\n",
        "> Results\n",
        " - Predicted ROI\n",
        " -> Of each model\n",
        " - Comparaison with competing investements.\n",
        "'''\n",
        "# coding style guidlines\n",
        "'''\n",
        "> Don't Repeat Yourself\n",
        "> wrap every task within a function\n",
        "> Work with class/methodes rather than function/function\n",
        "> document everything {variables, calls...}\n",
        "\n",
        "'''"
      ],
      "metadata": {
        "id": "BvIUTwKSAMbU"
      },
      "execution_count": null,
      "outputs": []
    },
    {
      "cell_type": "markdown",
      "source": [
        "## Reference\n",
        "[Electricity price forcasting](https://en.wikipedia.org/wiki/Electricity_price_forecasting)\n",
        "\n",
        "[Day-ahead electricity price prediction applying hybrid models of LSTM-based deep learning methods and feature selection algorithms under consideration of market coupling](https://arxiv.org/pdf/2101.05249.pdf)\n",
        "\n",
        "[Error Compensation Enhanced Day-Ahead Electricity Price Forecasting](https://www.mdpi.com/1996-1073/15/4/1466)"
      ],
      "metadata": {
        "id": "4IqROajoAMM6"
      }
    }
  ]
}